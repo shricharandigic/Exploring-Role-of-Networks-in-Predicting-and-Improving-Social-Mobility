{
 "cells": [
  {
   "cell_type": "markdown",
   "id": "77ff6087",
   "metadata": {},
   "source": [
    "#### Imports"
   ]
  },
  {
   "cell_type": "code",
   "execution_count": 20,
   "id": "38d8a603",
   "metadata": {},
   "outputs": [],
   "source": [
    "import pandas as pd\n",
    "import networkx as nx\n",
    "import matplotlib.pyplot as plt\n"
   ]
  },
  {
   "cell_type": "markdown",
   "id": "3e5c4009",
   "metadata": {},
   "source": [
    "#### SKIP the following cells and start from the line where we read \"ny_nj_connectedness_final\" , if you already have the \"ny_nj_connectedness_final\" graph"
   ]
  },
  {
   "cell_type": "code",
   "execution_count": 48,
   "id": "8349df2e",
   "metadata": {},
   "outputs": [],
   "source": [
    "ny_nj_graph = nx.read_gexf(\"ny_nj_connectedness.gexf\")\n",
    "\n"
   ]
  },
  {
   "cell_type": "code",
   "execution_count": 50,
   "id": "7f31881a",
   "metadata": {},
   "outputs": [
    {
     "data": {
      "text/plain": [
       "{'label': '7002'}"
      ]
     },
     "execution_count": 50,
     "metadata": {},
     "output_type": "execute_result"
    }
   ],
   "source": [
    "ny_nj_graph.nodes['7002']"
   ]
  },
  {
   "cell_type": "code",
   "execution_count": null,
   "id": "c4de9ca9",
   "metadata": {},
   "outputs": [],
   "source": [
    "ny_nj_zipcodes = list(range(10001, 14976)) + list(range(7001, 8980))\n"
   ]
  },
  {
   "cell_type": "markdown",
   "id": "35dfab9b",
   "metadata": {},
   "source": [
    "#### include mean income from 2018\n",
    " \n"
   ]
  },
  {
   "cell_type": "code",
   "execution_count": null,
   "id": "733ed083",
   "metadata": {},
   "outputs": [],
   "source": [
    "incomes = pd.read_csv(\"zip_inc_final.csv\",delimiter=',')\n",
    "#Removing non numeric values and \"_\" values from the mean_income column\n",
    "incomes['Mean_Income'] = incomes['Mean_Income'].replace(['-','N'], np.nan)\n",
    "incomes['Mean_Income'] = pd.to_numeric(incomes['Mean_Income'])\n",
    "print(incomes['Mean_Income'].dtype)\n",
    "incomes = incomes.dropna(subset=['Mean_Income'])\n",
    "\n",
    "\n",
    "# Filtering just the ny-nj state zipcodes\n",
    "incomes_ny_nj = incomes[incomes['zip'].isin(ny_nj_zipcodes)]\n",
    "\n",
    "zip_income_dict_ny_nj ={}\n",
    "for _, row in incomes_ny_nj.iterrows():\n",
    "    zip_income_dict_ny_nj[row['zip']] = row['Mean_Income']"
   ]
  },
  {
   "cell_type": "markdown",
   "id": "0bbf8367",
   "metadata": {},
   "source": [
    "#### Assign mean income , and the ses values based on mean income based on the zipwise mean income dict"
   ]
  },
  {
   "cell_type": "code",
   "execution_count": null,
   "id": "9b658260",
   "metadata": {},
   "outputs": [],
   "source": [
    "incomes_ny_nj_median_income = incomes_ny_nj['Mean_Income'].median()\n",
    "print(incomes_ny_nj_median_income)\n",
    "\n",
    "nodes_to_remove = []\n",
    "# Add the mean income and zip as node attributes, and assign the economic\n",
    "# connectedness - ses ('low' if below median income.. else 'high')\n",
    "for node in ny_nj_graph.nodes():\n",
    "    if int(node) in zip_income_dict_ny_nj:\n",
    "        ny_nj_graph.nodes[node]['mean_income'] = zip_income_dict_ny_nj[int(node)]\n",
    "        if ny_nj_graph.nodes[node]['mean_income']>=incomes_ny_nj_median_income:\n",
    "            ny_nj_graph.nodes[node]['ses'] = \"high\"\n",
    "        else:\n",
    "            ny_nj_graph.nodes[node]['ses'] = \"low\"\n",
    "    else:\n",
    "        nodes_to_remove.append(node)\n",
    "    ny_nj_graph.nodes[node]['zip'] = node\n",
    "    \n",
    "#Removing nodes without a mean income data\n",
    "for node in nodes_to_remove:\n",
    "    ny_nj_graph.remove_node(node)\n",
    "    \n",
    "print(ny_nj_graph.nodes['7002']['mean_income'] , ny_nj_graph.nodes['7002']['ses'])\n"
   ]
  },
  {
   "cell_type": "markdown",
   "id": "5b91287e",
   "metadata": {},
   "source": [
    "### Calculate economic connectedness based on ses:\n",
    "Economic connectedness (EC) is \n",
    "calculated as the share of friends with above-median SES (‘high SES’) among \n",
    "people with below-median SES (‘low SES’) divided by 50%. This measures \n",
    "the average degree of under-representation of high-SES friends among people with low SES."
   ]
  },
  {
   "cell_type": "code",
   "execution_count": null,
   "id": "2d8a98a0",
   "metadata": {},
   "outputs": [],
   "source": [
    "# EC = (number of high-SES friends / total friends) / 0.5\n",
    "\n",
    "for node in ny_nj_graph.nodes():\n",
    "    hi_ses_weight = 0\n",
    "    total_weight = 0 #Includes lo and hi ses weights\n",
    "    ec = 0\n",
    "    neighbours = list(ny_nj_graph.neighbors(node))\n",
    "    for neighbour in neighbours:\n",
    "        edge_weight = ny_nj_graph.get_edge_data(node, neighbour)['weight']\n",
    "        neighbour_ses = ny_nj_graph.nodes[neighbour][\"ses\"]\n",
    "        if neighbour_ses == 'low':\n",
    "            total_weight+=edge_weight\n",
    "        else:\n",
    "            hi_ses_weight+=edge_weight\n",
    "    total_weight+=hi_ses_weight\n",
    "    ec = (hi_ses_weight/total_weight)/0.5\n",
    "    ny_nj_graph.nodes[node]['ec'] = ec\n",
    "    \n",
    "        \n",
    "            \n",
    "            "
   ]
  },
  {
   "cell_type": "markdown",
   "id": "71f5cfd4",
   "metadata": {},
   "source": [
    "### Calculate the mobility percentile and assign to the graph "
   ]
  },
  {
   "cell_type": "code",
   "execution_count": null,
   "id": "46355d18",
   "metadata": {},
   "outputs": [],
   "source": [
    "#Get the zipcode wise mobility data for the states in consideration\n",
    "mobility_data = pd.read_stata('/content/drive/MyDrive/Colab Notebooks/ns_project/zip_mobility_data.dta')\n",
    "mobility_data_ny_nj = mobility_data[mobility_data['zip'].isin(ny_nj_zipcodes)]\n",
    "mobility_data_ny_nj = mobility_data_ny_nj.dropna(subset=['kfr_pooled_pooled_p25'])\n",
    "\n",
    "#Since the mean income percentile might not tell the complete story. We are calculating the percentile of performance in terms of the state we have selected\n",
    "mobility_data_ny_nj['Mobility_Percentile'] = mobility_data_ny_nj.kfr_pooled_pooled_p25.rank(pct = True)\n",
    "\n",
    "#creating a dictionary of zip as key and mobility percentile as value\n",
    "mobility_dict_ny_nj ={}\n",
    "for _, row in mobility_data_ny_nj.iterrows():\n",
    "    mobility_dict_ny_nj[row['zip']] = row['Mobility_Percentile']\n",
    "    \n",
    "#pruning the low ses nodes with no mobility data\n",
    "nodes_to_remove = []\n",
    "# Removing low SES nodes, which doesn't have a mobility data\n",
    "for node in ny_nj_graph.nodes():\n",
    "    if int(node) in mobility_dict_ny_nj:\n",
    "        ny_nj_graph.nodes[node]['Mobility_Percentile'] = mobility_dict_ny_nj[int(node)]\n",
    "    else:\n",
    "        nodes_to_remove.append(node)\n",
    "        # ny_nj_graph.nodes[node]['Mobility_Percentile'] = 0\n",
    "        \n",
    "for node in nodes_to_remove:\n",
    "    ny_nj_graph.remove_node(node)\n",
    "\n",
    "nx.write_gexf(ny_nj_graph, 'ny_nj_connectedness_final.gexf')\n",
    "\n",
    "\n",
    "\n",
    "\n",
    "\n",
    "\n",
    "\n"
   ]
  },
  {
   "cell_type": "markdown",
   "id": "76d5123b",
   "metadata": {},
   "source": [
    "### ------->> Note: Start here if you already have the \"ny_nj_connectedness_final\" graph"
   ]
  },
  {
   "cell_type": "markdown",
   "id": "3441a5ce",
   "metadata": {},
   "source": [
    "### Read the final graph with mobility percentile, ses and mean incomes as node attributes\n"
   ]
  },
  {
   "cell_type": "code",
   "execution_count": 51,
   "id": "55e71a44",
   "metadata": {},
   "outputs": [
    {
     "name": "stdout",
     "output_type": "stream",
     "text": [
      "edges::  1427444 \n",
      " nodes 1923\n"
     ]
    }
   ],
   "source": [
    "ny_nj_graph = nx.read_gexf(\"ny_nj_connectedness_final.gexf\")\n",
    "edges = len(ny_nj_graph.edges())\n",
    "nodes = len(ny_nj_graph.nodes())\n",
    "\n",
    "\n",
    "print(\"edges:: \", edges,\"\\n nodes\",nodes)"
   ]
  },
  {
   "cell_type": "code",
   "execution_count": 52,
   "id": "b97f8d9c",
   "metadata": {},
   "outputs": [
    {
     "data": {
      "text/plain": [
       "{'mean_income': 35905.0,\n",
       " 'ses': 'low',\n",
       " 'zip': '7002',\n",
       " 'ec': 1.3331180464931969,\n",
       " 'Mobility_Percentile': 0.6700636942675159,\n",
       " 'label': '7002'}"
      ]
     },
     "execution_count": 52,
     "metadata": {},
     "output_type": "execute_result"
    }
   ],
   "source": [
    "ny_nj_graph.nodes['7002']"
   ]
  },
  {
   "cell_type": "code",
   "execution_count": 23,
   "id": "38dd067f",
   "metadata": {},
   "outputs": [
    {
     "data": {
      "text/plain": [
       "{'id': '1', 'weight': 274213.0}"
      ]
     },
     "execution_count": 23,
     "metadata": {},
     "output_type": "execute_result"
    }
   ],
   "source": [
    "ny_nj_graph.edges['7002','7003']"
   ]
  },
  {
   "cell_type": "markdown",
   "id": "81c8b4ea",
   "metadata": {},
   "source": [
    "### The below cell is only for visualization. we are removing some edges based on the threshold"
   ]
  },
  {
   "cell_type": "code",
   "execution_count": null,
   "id": "995a89ea",
   "metadata": {},
   "outputs": [],
   "source": [
    "\n",
    "# set the threshold for edge weight\n",
    "threshold = 100000\n",
    "\n",
    "# create a new graph with only the edges that have weight above the threshold\n",
    "new_edges = [(u, v, d) for u, v, d in ny_nj_graph.edges(data=True) if d['weight'] >= threshold]\n",
    "new_graph = nx.Graph(new_edges)\n",
    "\n",
    "# copy over the node attributes from the original graph to the new graph\n",
    "for node in ny_nj_graph.nodes:\n",
    "    new_graph.nodes[node].update(ny_nj_graph.nodes[node])\n",
    "\n",
    "# the new graph has only the important edges and the same node attributes as the original graph"
   ]
  },
  {
   "cell_type": "code",
   "execution_count": null,
   "id": "e79847cb",
   "metadata": {},
   "outputs": [],
   "source": [
    "edges = len(new_graph.edges())\n",
    "nodes = len(new_graph.nodes())\n",
    "\n",
    "\n",
    "print(\"edges:: \", edges,\"\\n nodes\",nodes)"
   ]
  },
  {
   "cell_type": "code",
   "execution_count": null,
   "id": "90830b71",
   "metadata": {},
   "outputs": [],
   "source": [
    "nx.write_gexf(new_graph,\"ny_nj_graph_edges_pruned.gexf\")"
   ]
  },
  {
   "cell_type": "code",
   "execution_count": null,
   "id": "ed73dc5c",
   "metadata": {},
   "outputs": [],
   "source": [
    "ny_nj_graph.nodes['7002']"
   ]
  },
  {
   "cell_type": "markdown",
   "id": "4da84688",
   "metadata": {},
   "source": [
    "### code for geo plot"
   ]
  },
  {
   "cell_type": "code",
   "execution_count": null,
   "id": "6eb5d172",
   "metadata": {},
   "outputs": [],
   "source": [
    "import geopandas as gpd\n",
    "import matplotlib.pyplot as plt\n",
    "#ny_nj_graph = nx.read_gexf(\"/content/drive/MyDrive/Colab Notebooks/ns_project/ny_nj_connectedness_final.gexf\")\n",
    "ny_nj_ziplist = list(ny_nj_graph.nodes)\n",
    "ny_nj_zipcodes = gpd.GeoDataFrame()\n",
    "print((ny_nj_ziplist))\n",
    "#all_zipcodes = gpd.read_file('/content/drive/MyDrive/Colab Notebooks/ns_project/zip_shapes/tl_2022_us_zcta520.shx')\n",
    "\n",
    "for zip in ny_nj_ziplist:\n",
    "  #print(zip)\n",
    "  if zip in (all_zipcodes['ZCTA5CE20'].values):\n",
    "    ny_nj_zipcodes = pd.concat([ny_nj_zipcodes, all_zipcodes[all_zipcodes['ZCTA5CE20'] == zip]])\n",
    "ny_nj_zipcodes.plot(column='ZCTA5CE20', cmap='viridis')\n",
    "plt.show()"
   ]
  },
  {
   "cell_type": "markdown",
   "id": "57df1d46",
   "metadata": {},
   "source": [
    "### Below cells are used to remove the low ses - low ses edges"
   ]
  },
  {
   "cell_type": "code",
   "execution_count": 54,
   "id": "e5809abe",
   "metadata": {},
   "outputs": [],
   "source": [
    "ny_nj_graph_edges_removed_lo_ses = ny_nj_graph.copy()"
   ]
  },
  {
   "cell_type": "code",
   "execution_count": 55,
   "id": "2b8cce27",
   "metadata": {},
   "outputs": [],
   "source": [
    "edges_to_remove = []\n",
    "# Assuming you have a networkx graph object named 'G'\n",
    "for u, v, data in ny_nj_graph_edges_removed_lo_ses.edges(data=True):\n",
    "    # Check if both nodes have 'ses' attribute and their values are \"low\"\n",
    "    if ny_nj_graph_edges_removed_lo_ses.nodes[u].get('ses') == 'low' and ny_nj_graph_edges_removed_lo_ses.nodes[v].get('ses') == 'low':\n",
    "        # Remove the edge between u and v\n",
    "        edges_to_remove.append((u,v))\n",
    "for u,v in edges_to_remove:\n",
    "        ny_nj_graph_edges_removed_lo_ses.remove_edge(u,v)"
   ]
  },
  {
   "cell_type": "code",
   "execution_count": 56,
   "id": "0c4b136c",
   "metadata": {},
   "outputs": [
    {
     "name": "stdout",
     "output_type": "stream",
     "text": [
      "1427444\n",
      "1136202\n"
     ]
    }
   ],
   "source": [
    "#Comapring the number of edges between the original graph and the graph with lo_ses - low_ses edges removed \n",
    "\n",
    "print(len(ny_nj_graph.edges()))\n",
    "print(len(ny_nj_graph_edges_removed_lo_ses.edges()))"
   ]
  },
  {
   "cell_type": "markdown",
   "id": "997846e9",
   "metadata": {},
   "source": [
    "### The cells below are used to calculate all the centrality measures"
   ]
  },
  {
   "cell_type": "code",
   "execution_count": 57,
   "id": "74f55372",
   "metadata": {},
   "outputs": [],
   "source": [
    "#PageRank\n",
    "pr = nx.pagerank(ny_nj_graph_edges_removed_lo_ses,weight = \"weight\")"
   ]
  },
  {
   "cell_type": "code",
   "execution_count": 58,
   "id": "5944f107",
   "metadata": {},
   "outputs": [],
   "source": [
    "# Eigen vector\n",
    "ev = nx.eigenvector_centrality(ny_nj_graph_edges_removed_lo_ses, weight=\"weight\")"
   ]
  },
  {
   "cell_type": "code",
   "execution_count": 64,
   "id": "53154ccc",
   "metadata": {},
   "outputs": [],
   "source": [
    "#Betweenness centrality - taking too long to compute\n",
    "# bc = nx.betweenness_centrality(ny_nj_graph_edges_removed_lo_ses,weight=\"weight\")"
   ]
  },
  {
   "cell_type": "markdown",
   "id": "e11262fb",
   "metadata": {},
   "source": [
    "### Add the lat and long as attributes for the xipcodes"
   ]
  },
  {
   "cell_type": "code",
   "execution_count": 70,
   "id": "d95b511a",
   "metadata": {},
   "outputs": [
    {
     "name": "stdout",
     "output_type": "stream",
     "text": [
      "Graph with 1923 nodes and 1136202 edges\n"
     ]
    },
    {
     "name": "stderr",
     "output_type": "stream",
     "text": [
      "/var/folders/sr/swqxjh5n7sb5rklv1yzdl41m0000gn/T/ipykernel_48532/445799950.py:18: DeprecationWarning: info is deprecated and will be removed in version 3.0.\n",
      "\n",
      "  print(nx.info(ny_nj_graph_edges_removed_lo_ses))\n"
     ]
    }
   ],
   "source": [
    "ny_nj_zipcodes = list(range(10001, 14976)) + list(range(7001, 8980))\n",
    "\n",
    "lat_long = pd.read_csv('zip_lat_long.txt')\n",
    "nynj_lat_long = lat_long[lat_long['ZIP'].isin(ny_nj_zipcodes)]\n",
    "zip_lat_dict = {}\n",
    "zip_long_dict = {}\n",
    "for _, row in nynj_lat_long.iterrows():\n",
    "    zip_lat_dict[row['ZIP']] = row['LAT']\n",
    "    zip_long_dict[row['ZIP']] = row['LNG']\n",
    "for node in ny_nj_graph_edges_removed_lo_ses.nodes():\n",
    "    if int(node) in zip_lat_dict:\n",
    "        ny_nj_graph_edges_removed_lo_ses.nodes[node]['latitude'] = zip_lat_dict[int(node)]\n",
    "        ny_nj_graph_edges_removed_lo_ses.nodes[node]['longitude'] = zip_long_dict[int(node)]\n",
    "        \n",
    "        #The original graph\n",
    "        ny_nj_graph.nodes[node]['latitude'] = zip_lat_dict[int(node)]\n",
    "        ny_nj_graph.nodes[node]['longitude'] = zip_long_dict[int(node)]\n",
    "print(nx.info(ny_nj_graph_edges_removed_lo_ses))"
   ]
  },
  {
   "cell_type": "markdown",
   "id": "5cb40007",
   "metadata": {},
   "source": [
    "### Add all the calculated centralities as node attributes"
   ]
  },
  {
   "cell_type": "code",
   "execution_count": 69,
   "id": "ba138783",
   "metadata": {},
   "outputs": [],
   "source": [
    "nx.set_node_attributes(ny_nj_graph_edges_removed_lo_ses,pr,\"Pagerank\")\n",
    "nx.set_node_attributes(ny_nj_graph_edges_removed_lo_ses,ev,\"Eigenvector\")\n",
    "\n",
    "##The original graph\n",
    "nx.set_node_attributes(ny_nj_graph,pr,\"Pagerank\")\n",
    "nx.set_node_attributes(ny_nj_graph,ev,\"Eigenvector\")"
   ]
  },
  {
   "cell_type": "code",
   "execution_count": 62,
   "id": "840a19e1",
   "metadata": {},
   "outputs": [
    {
     "data": {
      "text/plain": [
       "{'mean_income': 35905.0,\n",
       " 'ses': 'low',\n",
       " 'zip': '7002',\n",
       " 'ec': 1.3331180464931969,\n",
       " 'Mobility_Percentile': 0.6700636942675159,\n",
       " 'label': '7002',\n",
       " 'latitude': 40.662338,\n",
       " 'longitude': -74.110275,\n",
       " 'Pagerank': 0.00024845809325711667,\n",
       " 'Eigenvector': 0.00041792706419122445}"
      ]
     },
     "execution_count": 62,
     "metadata": {},
     "output_type": "execute_result"
    }
   ],
   "source": [
    "ny_nj_graph_edges_removed_lo_ses.nodes['7002']"
   ]
  },
  {
   "cell_type": "code",
   "execution_count": 66,
   "id": "b853fb31",
   "metadata": {},
   "outputs": [],
   "source": [
    "nx.write_gexf(ny_nj_graph_edges_removed_lo_ses,\"ny_nj_connectedness_final_allattributes.gexf\")"
   ]
  },
  {
   "cell_type": "code",
   "execution_count": 74,
   "id": "4b7460c1",
   "metadata": {},
   "outputs": [],
   "source": [
    "nx.write_gexf(ny_nj_graph,\"ny_nj_connectedness_final_allattributes_original.gexf\")"
   ]
  },
  {
   "cell_type": "markdown",
   "id": "8230c314",
   "metadata": {},
   "source": [
    "#### Just for visualization on gephi, pruning some edges based on threshold\n",
    "For visualization, lets use the original ny_nj_graph , instead of the lo-ses-lo_ses removed edges one, since we already have the metrics calculated."
   ]
  },
  {
   "cell_type": "code",
   "execution_count": 73,
   "id": "140400a4",
   "metadata": {},
   "outputs": [
    {
     "name": "stdout",
     "output_type": "stream",
     "text": [
      "edges::  292525 \n",
      " nodes 1923\n"
     ]
    }
   ],
   "source": [
    "# set the threshold for edge weight\n",
    "threshold = 100000\n",
    "\n",
    "# create a new graph with only the edges that have weight above the threshold\n",
    "new_edges = [(u, v, d) for u, v, d in ny_nj_graph.edges(data=True) if d['weight'] >= threshold]\n",
    "new_graph = nx.Graph(new_edges)\n",
    "\n",
    "# copy over the node attributes from the original graph to the new graph\n",
    "for node in ny_nj_graph.nodes:\n",
    "    new_graph.nodes[node].update(ny_nj_graph.nodes[node])\n",
    "\n",
    "# the new graph has only the important edges and the same node attributes as the original graph\n",
    "\n",
    "edges = len(new_graph.edges())\n",
    "nodes = len(new_graph.nodes())\n",
    "\n",
    "\n",
    "print(\"edges:: \", edges,\"\\n nodes\",nodes)\n",
    "nx.write_gexf(new_graph,\"ny_nj_connectedness_final_allattributes_pruned.gexf\")"
   ]
  },
  {
   "cell_type": "code",
   "execution_count": null,
   "id": "3d6c9ab1",
   "metadata": {},
   "outputs": [],
   "source": []
  },
  {
   "cell_type": "markdown",
   "id": "e4747d42",
   "metadata": {},
   "source": [
    "### Calculate clustering coefficient and assortativity"
   ]
  },
  {
   "cell_type": "code",
   "execution_count": 76,
   "id": "5eba8092",
   "metadata": {},
   "outputs": [],
   "source": [
    "# #Taking too long to compute\n",
    "# clustering_coeff_nynj = nx.clustering(ny_nj_graph_edges_removed_lo_ses,weight=\"weight\")\n",
    "# assortativity_njnj = nx.assortativity(ny_nj_graph_edges_removed_lo_ses,weight=\"weight\")"
   ]
  },
  {
   "cell_type": "markdown",
   "id": "0de77fab",
   "metadata": {},
   "source": [
    "### Show top nodes in terms of page rank"
   ]
  },
  {
   "cell_type": "code",
   "execution_count": 85,
   "id": "36726602",
   "metadata": {},
   "outputs": [
    {
     "name": "stdout",
     "output_type": "stream",
     "text": [
      "Top 10 nodes by PageRank:\n",
      "Node 12413: PageRank score = 0.1872, ses value = high\n",
      "Node 12473: PageRank score = 0.1850, ses value = high\n",
      "Node 12431: PageRank score = 0.1724, ses value = high\n",
      "Node 12037: PageRank score = 0.1657, ses value = high\n",
      "Node 12046: PageRank score = 0.1542, ses value = high\n",
      "Node 12521: PageRank score = 0.1484, ses value = high\n",
      "Node 12015: PageRank score = 0.1462, ses value = high\n",
      "Node 12184: PageRank score = 0.1420, ses value = high\n",
      "Node 12143: PageRank score = 0.1396, ses value = high\n",
      "Node 12463: PageRank score = 0.1374, ses value = high\n"
     ]
    }
   ],
   "source": [
    "\n",
    "# Sort the nodes by PageRank score in descending order\n",
    "pr_sorted = sorted(ev.items(), key=lambda x: x[1], reverse=True)\n",
    "\n",
    "# Display the top 10 nodes with their corresponding ses values\n",
    "print(\"Top 10 nodes by PageRank:\")\n",
    "for i in range(10):\n",
    "    node = pr_sorted[i][0]\n",
    "    pr_score = pr_sorted[i][1]\n",
    "    ses_value = ny_nj_graph.nodes[node]['ses']\n",
    "    print(f\"Node {node}: PageRank score = {pr_score:.4f}, ses value = {ses_value}\")\n"
   ]
  },
  {
   "cell_type": "code",
   "execution_count": null,
   "id": "0f693b33",
   "metadata": {},
   "outputs": [],
   "source": [
    "cal_graph = nx.read_gexf(\"/content/drive/MyDrive/Colab Notebooks/ns_project/ny_nj_connectedness_final.gexf\")\n",
    "cal_ziplist = list(cal_graph.nodes)\n",
    "cal_zipcodes = gpd.GeoDataFrame()\n",
    "print((cal_ziplist))\n",
    "for zip in cal_ziplist:\n",
    "  #print(zip)\n",
    "  if zip in (all_zipcodes['ZCTA5CE20'].values):\n",
    "    cal_zipcodes = pd.concat([cal_zipcodes, all_zipcodes[all_zipcodes['ZCTA5CE20'] == zip]])\n",
    "\t\n",
    "cal_df = pd.DataFrame(columns=['zip','ses','ec','Mobility_Percentile'])\n",
    "ec = nx.get_node_attributes(cal_df, 'ec')\n",
    "ec_array = np.array(list(ec.values()))\n",
    "median_ec2 = np.median(ec_array)\n",
    "#implementation\n",
    "for node in cal_graph.nodes():\n",
    "    data = [node,cal_graph.nodes[node]['ses'],cal_graph.nodes[node]['ec'],cal_graph.nodes[node]['Mobility_Percentile']]\n",
    "    data_df = pd.DataFrame([data], columns=['zip', 'ses','ec','Mobility_Percentile'])\n",
    "    cal_df = pd.concat([cal_df,data_df],ignore_index=True)\n",
    "print(cal_df)\n",
    "for i in range(len(cal_df)):\n",
    "    if cal_df.iloc[i]['ec'] >= median_ec2 and cal_df.iloc[i]['Mobility_Percentile'] >= 0.5:\n",
    "        cal_df.loc[i, 'color'] = 'Green'\n",
    "    elif cal_df.iloc[i]['ec'] < median_ec2 and cal_df.iloc[i]['Mobility_Percentile'] < 0.5:\n",
    "        cal_df.loc[i, 'color'] = 'Green'\n",
    "    else:\n",
    "        cal_df.loc[i, 'color'] = 'Red'\n",
    "cal_zipcodes = cal_zipcodes.rename(columns={'ZCTA5CE20': 'zip'})\n",
    "merged2 = cal_zipcodes.merge(ny_nj_df, on='zip')\n",
    "merged2.plot(color = merged2['color'])\n",
    "plt.show()"
   ]
  }
 ],
 "metadata": {
  "kernelspec": {
   "display_name": "Python 3 (ipykernel)",
   "language": "python",
   "name": "python3"
  },
  "language_info": {
   "codemirror_mode": {
    "name": "ipython",
    "version": 3
   },
   "file_extension": ".py",
   "mimetype": "text/x-python",
   "name": "python",
   "nbconvert_exporter": "python",
   "pygments_lexer": "ipython3",
   "version": "3.9.12"
  }
 },
 "nbformat": 4,
 "nbformat_minor": 5
}
